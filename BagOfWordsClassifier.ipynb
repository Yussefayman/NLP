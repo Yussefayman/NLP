{
  "nbformat": 4,
  "nbformat_minor": 0,
  "metadata": {
    "colab": {
      "provenance": [],
      "authorship_tag": "ABX9TyPVcWtWxHL8c/9SXDdsW60f",
      "include_colab_link": true
    },
    "kernelspec": {
      "name": "python3",
      "display_name": "Python 3"
    },
    "language_info": {
      "name": "python"
    }
  },
  "cells": [
    {
      "cell_type": "markdown",
      "metadata": {
        "id": "view-in-github",
        "colab_type": "text"
      },
      "source": [
        "<a href=\"https://colab.research.google.com/github/Yussefayman/NLP/blob/main/BagOfWordsClassifier.ipynb\" target=\"_parent\"><img src=\"https://colab.research.google.com/assets/colab-badge.svg\" alt=\"Open In Colab\"/></a>"
      ]
    },
    {
      "cell_type": "code",
      "execution_count": 1,
      "metadata": {
        "id": "ymIC4NrTPPB4"
      },
      "outputs": [],
      "source": [
        "import random\n",
        "import tqdm"
      ]
    },
    {
      "cell_type": "code",
      "source": [
        "def extract_features(x: str) -> dict[str,float]:\n",
        "  features = {}\n",
        "  x_split = x.split(' ')\n",
        "  for x in x_split:\n",
        "    features[x] = features.get(x,0) + 1.0\n",
        "  return features"
      ],
      "metadata": {
        "id": "FsLcBvAHRXVB"
      },
      "execution_count": 2,
      "outputs": []
    },
    {
      "cell_type": "code",
      "source": [
        "feature_weights = {}"
      ],
      "metadata": {
        "id": "tSR4VB7BSycT"
      },
      "execution_count": 3,
      "outputs": []
    },
    {
      "cell_type": "code",
      "source": [
        "def read_data(filename: str) -> tuple[list[str],list[int]]:\n",
        "  x_data = []\n",
        "  y_data = []\n",
        "  with open(filename,'r') as f:\n",
        "    for line in f:\n",
        "      label, text = line.strip().split(' ||| ')\n",
        "      x_data.append(text)\n",
        "      y_data.append(int(label))\n",
        "  return x_data, y_data\n"
      ],
      "metadata": {
        "id": "0U-BDW5LS1aP"
      },
      "execution_count": 4,
      "outputs": []
    },
    {
      "cell_type": "code",
      "source": [
        "x_train, y_train = read_data('data/train.txt')\n",
        "x_dev, y_dev = read_data('data/dev.txt')"
      ],
      "metadata": {
        "id": "QYR33o2eTkqY"
      },
      "execution_count": 6,
      "outputs": []
    },
    {
      "cell_type": "code",
      "source": [
        "x_train[0],y_train[0]"
      ],
      "metadata": {
        "colab": {
          "base_uri": "https://localhost:8080/"
        },
        "id": "_p0yJd0nW7Nb",
        "outputId": "0605e8df-de7b-4b7f-84b2-f9e7fd2dbf5c"
      },
      "execution_count": 8,
      "outputs": [
        {
          "output_type": "execute_result",
          "data": {
            "text/plain": [
              "(\"The Rock is destined to be the 21st Century 's new `` Conan '' and that he 's going to make a splash even greater than Arnold Schwarzenegger , Jean-Claud Van Damme or Steven Segal .\",\n",
              " 1)"
            ]
          },
          "metadata": {},
          "execution_count": 8
        }
      ]
    },
    {
      "cell_type": "code",
      "source": [
        "def run_classifier(features: dict[str, float]) -> int:\n",
        "  score = 0\n",
        "  for feat_name, feat_value in features.items():\n",
        "    score = score + feat_value * feature_weights.get(feat_name,0)\n",
        "  if score > 0:\n",
        "    return 1\n",
        "  elif score < 0:\n",
        "    return -1\n",
        "  else:\n",
        "    return 0"
      ],
      "metadata": {
        "id": "0-p1kBkQXiBm"
      },
      "execution_count": 11,
      "outputs": []
    },
    {
      "cell_type": "code",
      "source": [
        "epochs = 5\n",
        "for epoch in range(1,epochs+1):\n",
        "  data_ids = list(range(len(x_train)))\n",
        "  random.shuffle(data_ids)\n",
        "  for data_id in tqdm.tqdm(data_ids,desc=f'Epoch {epoch}'):\n",
        "    x = x_train[data_id]\n",
        "    y = y_train[data_id]\n",
        "    if y == 0:\n",
        "      continue\n",
        "    features = extract_features(x)\n",
        "    predicted_y = run_classifier(features)\n",
        "    if predicted_y !=y:\n",
        "      for feature in features:\n",
        "        feature_weights.get(feature, 0)\n",
        "        feature_weights[feature] = feature_weights.get(feature,0)+ y * features[feature]"
      ],
      "metadata": {
        "colab": {
          "base_uri": "https://localhost:8080/"
        },
        "id": "-b-jnCqvavem",
        "outputId": "ecaacec8-92bd-4b41-8d55-4fd499b720e7"
      },
      "execution_count": 20,
      "outputs": [
        {
          "output_type": "stream",
          "name": "stderr",
          "text": [
            "Epoch 1: 100%|██████████| 8544/8544 [00:00<00:00, 88562.35it/s]\n",
            "Epoch 2: 100%|██████████| 8544/8544 [00:00<00:00, 88849.55it/s]\n",
            "Epoch 3: 100%|██████████| 8544/8544 [00:00<00:00, 91001.77it/s]\n",
            "Epoch 4: 100%|██████████| 8544/8544 [00:00<00:00, 90332.41it/s]\n",
            "Epoch 5: 100%|██████████| 8544/8544 [00:00<00:00, 82882.64it/s]\n"
          ]
        }
      ]
    },
    {
      "cell_type": "code",
      "source": [
        "def calculate_accuracy(x_data: list[str], y_data: list[int]) -> float:\n",
        "    total_number = 0\n",
        "    correct_number = 0\n",
        "    for x, y in zip(x_data, y_data):\n",
        "        y_pred = run_classifier(extract_features(x))\n",
        "        total_number += 1\n",
        "        if y == y_pred:\n",
        "            correct_number += 1\n",
        "    return correct_number / float(total_number)"
      ],
      "metadata": {
        "id": "Gpiv35nVb0TA"
      },
      "execution_count": 21,
      "outputs": []
    },
    {
      "cell_type": "code",
      "source": [
        "label_count = {}\n",
        "for y in y_dev:\n",
        "    if y not in label_count:\n",
        "        label_count[y] = 0\n",
        "    label_count[y] += 1\n",
        "print(label_count)"
      ],
      "metadata": {
        "colab": {
          "base_uri": "https://localhost:8080/"
        },
        "id": "Z39KSpA4cWR3",
        "outputId": "98e03c72-f625-4e0d-a592-f687867015e4"
      },
      "execution_count": 22,
      "outputs": [
        {
          "output_type": "stream",
          "name": "stdout",
          "text": [
            "{1: 444, 0: 229, -1: 428}\n"
          ]
        }
      ]
    },
    {
      "cell_type": "code",
      "source": [
        "train_accuracy = calculate_accuracy(x_train, y_train)\n",
        "test_accuracy = calculate_accuracy(x_dev, y_dev)\n",
        "print(f'Train accuracy: {train_accuracy}')\n",
        "print(f'Dev/test accuracy: {test_accuracy}')"
      ],
      "metadata": {
        "colab": {
          "base_uri": "https://localhost:8080/"
        },
        "id": "nCNWM2hgcX5e",
        "outputId": "89d34e13-d194-4477-8965-ad6e7ede609c"
      },
      "execution_count": 23,
      "outputs": [
        {
          "output_type": "stream",
          "name": "stdout",
          "text": [
            "Train accuracy: 0.7846441947565543\n",
            "Dev/test accuracy: 0.5894641235240691\n"
          ]
        }
      ]
    },
    {
      "cell_type": "code",
      "source": [
        "def find_errors(x_data, y_data):\n",
        "    error_ids = []\n",
        "    y_preds = []\n",
        "    for i, (x, y) in enumerate(zip(x_data, y_data)):\n",
        "        y_preds.append(run_classifier(extract_features(x)))\n",
        "        if y != y_preds[-1]:\n",
        "            error_ids.append(i)\n",
        "    for _ in range(5):\n",
        "        my_id = random.choice(error_ids)\n",
        "        x, y, y_pred = x_data[my_id], y_data[my_id], y_preds[my_id]\n",
        "        print(f'{x}\\ntrue label: {y}\\npredicted label: {y_pred}\\n')"
      ],
      "metadata": {
        "id": "-YogE_oYcbQ7"
      },
      "execution_count": 24,
      "outputs": []
    },
    {
      "cell_type": "code",
      "source": [
        "find_errors(x_dev, y_dev)\n"
      ],
      "metadata": {
        "colab": {
          "base_uri": "https://localhost:8080/"
        },
        "id": "e4pHLETAcz9G",
        "outputId": "db20b4c1-c5df-4b3b-f0ef-3f4592312ce8"
      },
      "execution_count": 25,
      "outputs": [
        {
          "output_type": "stream",
          "name": "stdout",
          "text": [
            "Sometimes it feels as if it might have been made in the '70s or '80s , and starred Chevy Chase and Goldie Hawn .\n",
            "true label: 0\n",
            "predicted label: -1\n",
            "\n",
            "Yes , Ballistic is silly .\n",
            "true label: 0\n",
            "predicted label: -1\n",
            "\n",
            "Exists then as an occasionally insightful acting exercise .\n",
            "true label: 0\n",
            "predicted label: -1\n",
            "\n",
            "I 'm sure if you 're a Hartley fan , you might enjoy yourself ... Me , I did n't care for it .\n",
            "true label: 0\n",
            "predicted label: 1\n",
            "\n",
            "It has the ability to offend and put off everyone , but it holds you with its outrageousness .\n",
            "true label: 0\n",
            "predicted label: 1\n",
            "\n"
          ]
        }
      ]
    },
    {
      "cell_type": "code",
      "source": [],
      "metadata": {
        "id": "WGhJaUVhc1M4"
      },
      "execution_count": null,
      "outputs": []
    }
  ]
}