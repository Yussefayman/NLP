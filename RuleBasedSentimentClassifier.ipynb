{
  "nbformat": 4,
  "nbformat_minor": 0,
  "metadata": {
    "colab": {
      "provenance": [],
      "authorship_tag": "ABX9TyOGK+KNo/reWWPeIjDdWGhM",
      "include_colab_link": true
    },
    "kernelspec": {
      "name": "python3",
      "display_name": "Python 3"
    },
    "language_info": {
      "name": "python"
    }
  },
  "cells": [
    {
      "cell_type": "markdown",
      "metadata": {
        "id": "view-in-github",
        "colab_type": "text"
      },
      "source": [
        "<a href=\"https://colab.research.google.com/github/Yussefayman/NLP/blob/main/RuleBasedSentimentClassifier.ipynb\" target=\"_parent\"><img src=\"https://colab.research.google.com/assets/colab-badge.svg\" alt=\"Open In Colab\"/></a>"
      ]
    },
    {
      "cell_type": "code",
      "execution_count": 1,
      "metadata": {
        "id": "AW0sqRjz1a6U"
      },
      "outputs": [],
      "source": [
        "def extract_features(x:str) -> dict[str,float]:\n",
        "  features = {}\n",
        "  x_split = x.split(' ')\n",
        "  # Count the number of 'Good Words' and 'Bad Words' in a text\n",
        "  good_words = ['love','good','nice','great','enjoy','enjoyed']\n",
        "  bad_words = ['hate','bad','terrible','disappointing','sad','lost']\n",
        "  for x_word in x_split:\n",
        "    if x_word in good_words:\n",
        "      features['good_word_count'] = features.get('good_word_count',0) + 1\n",
        "    if x_word in bad_words:\n",
        "      features['bad_word_count'] = features.get('bad_word_count',0) + 1\n",
        "\n",
        "  features['bias'] = 1\n",
        "  return features\n",
        "\n",
        "feature_weights = {'good_word_count': 1.0, 'bad_word_count': -1.0, 'bias': 0.5}\n"
      ]
    },
    {
      "cell_type": "code",
      "source": [
        "def read_data(filename:str) ->tuple[list[str],list[int]]:\n",
        "  x_data = []\n",
        "  y_data = []\n",
        "  with open(filename,'r') as f:\n",
        "    for line in f:\n",
        "      label, text = line.strip().split(' ||| ')\n",
        "      x_data.append(text)\n",
        "      y_data.append(int(label))\n",
        "\n",
        "  return x_data, y_data"
      ],
      "metadata": {
        "id": "uNBobgwy5jSZ"
      },
      "execution_count": 3,
      "outputs": []
    },
    {
      "cell_type": "code",
      "source": [
        "x_train, y_train = read_data('data/train.txt')\n",
        "x_test, y_test = read_data('data/dev.txt')"
      ],
      "metadata": {
        "id": "9PEBFuP56lAk"
      },
      "execution_count": 6,
      "outputs": []
    },
    {
      "cell_type": "code",
      "source": [
        "x_train[0],y_train[0]"
      ],
      "metadata": {
        "colab": {
          "base_uri": "https://localhost:8080/"
        },
        "id": "GZsJoqFz8Ad6",
        "outputId": "9854ce0a-38ac-4983-d39e-8b50ef739ac8"
      },
      "execution_count": 8,
      "outputs": [
        {
          "output_type": "execute_result",
          "data": {
            "text/plain": [
              "(\"The Rock is destined to be the 21st Century 's new `` Conan '' and that he 's going to make a splash even greater than Arnold Schwarzenegger , Jean-Claud Van Damme or Steven Segal .\",\n",
              " 1)"
            ]
          },
          "metadata": {},
          "execution_count": 8
        }
      ]
    },
    {
      "cell_type": "code",
      "source": [
        "def run_classifier(x: str) -> int:\n",
        "  score = 0\n",
        "  for feat_name, feat_value in extract_features(x).items():\n",
        "    score = score + feat_value * feature_weights.get(feat_name,0)\n",
        "  if score > 0:\n",
        "    return 1\n",
        "  elif score < 0:\n",
        "    return -1\n",
        "  else:\n",
        "    return 0"
      ],
      "metadata": {
        "id": "3sVkPGED8IQK"
      },
      "execution_count": 9,
      "outputs": []
    },
    {
      "cell_type": "code",
      "source": [
        "def calculate_accuracy(x_data: list[str], y_data: list[int]) -> float:\n",
        "  total_number = 0\n",
        "  correct_number = 0\n",
        "  for x,y in zip(x_data,y_data):\n",
        "    y_pred = run_classifier(x)\n",
        "    total_number+=1\n",
        "    if y == y_pred:\n",
        "      correct_number +=1\n",
        "  return correct_number / float(total_number)"
      ],
      "metadata": {
        "id": "dDQAA-wH9sL5"
      },
      "execution_count": 10,
      "outputs": []
    },
    {
      "cell_type": "code",
      "source": [
        "label_count = {}\n",
        "for y in y_test:\n",
        "  if y not in label_count:\n",
        "    label_count[y] = 0\n",
        "  label_count[y]+=1\n",
        "print(label_count)"
      ],
      "metadata": {
        "colab": {
          "base_uri": "https://localhost:8080/"
        },
        "id": "vreAPebe-JJn",
        "outputId": "0e9c7d9b-9e96-4fca-9809-71c1fff3d21a"
      },
      "execution_count": 11,
      "outputs": [
        {
          "output_type": "stream",
          "name": "stdout",
          "text": [
            "{1: 444, 0: 229, -1: 428}\n"
          ]
        }
      ]
    },
    {
      "cell_type": "code",
      "source": [
        "train_accuracy = calculate_accuracy(x_train, y_train)\n",
        "test_accuracy = calculate_accuracy(x_test, y_test)\n",
        "print(f'Train accuracy: {train_accuracy}')\n",
        "print(f'Dev/test accuracy: {test_accuracy}')"
      ],
      "metadata": {
        "colab": {
          "base_uri": "https://localhost:8080/"
        },
        "id": "QWPQS8h0-iPc",
        "outputId": "0b94ffa8-ff7a-46a0-8720-08dba53a141a"
      },
      "execution_count": 12,
      "outputs": [
        {
          "output_type": "stream",
          "name": "stdout",
          "text": [
            "Train accuracy: 0.43433988764044945\n",
            "Dev/test accuracy: 0.4223433242506812\n"
          ]
        }
      ]
    },
    {
      "cell_type": "code",
      "source": [
        "import random\n",
        "def find_errors(x_data,y_data):\n",
        "  error_ids = []\n",
        "  y_preds = []\n",
        "  for i, (x,y) in enumerate(zip(x_data,y_data)):\n",
        "    y_preds.append(run_classifier(x))\n",
        "    if y!=y_preds[-1]:\n",
        "      error_ids.append(i)\n",
        "  for _ in range(5):\n",
        "    my_id = random.choice(error_ids)\n",
        "    x,y,y_pred = x_data[my_id], y_data[my_id], y_preds[my_id]\n",
        "    print(f'{x}\\ntrue label: {y}\\npredicted label: {y_pred}\\n')\n"
      ],
      "metadata": {
        "id": "RQIz4Phn-oMF"
      },
      "execution_count": 13,
      "outputs": []
    },
    {
      "cell_type": "code",
      "source": [
        "find_errors(x_train, y_train)\n"
      ],
      "metadata": {
        "colab": {
          "base_uri": "https://localhost:8080/"
        },
        "id": "t7Vg-R7-Avi-",
        "outputId": "30e179d8-61b8-4455-cec6-20d58bbc1896"
      },
      "execution_count": 14,
      "outputs": [
        {
          "output_type": "stream",
          "name": "stdout",
          "text": [
            "Richard Pryor mined his personal horrors and came up with a treasure chest of material , but Lawrence gives us mostly fool 's gold .\n",
            "true label: -1\n",
            "predicted label: 1\n",
            "\n",
            "I liked the original short story but this movie , even at an hour and twenty-some minutes , it 's too long and it goes nowhere .\n",
            "true label: -1\n",
            "predicted label: 1\n",
            "\n",
            "An admitted egomaniac , Evans is no Hollywood villain , and yet this grating showcase almost makes you wish he 'd gone the way of Don Simpson .\n",
            "true label: -1\n",
            "predicted label: 1\n",
            "\n",
            "The whole affair is as predictable as can be .\n",
            "true label: 0\n",
            "predicted label: 1\n",
            "\n",
            "Watching Harris ham it up while physically and emotionally disintegrating over the course of the movie has a certain poignancy in light of his recent death , but Boyd 's film offers little else of consequence .\n",
            "true label: 0\n",
            "predicted label: 1\n",
            "\n"
          ]
        }
      ]
    },
    {
      "cell_type": "code",
      "source": [],
      "metadata": {
        "id": "z2OcrRGEAw95"
      },
      "execution_count": null,
      "outputs": []
    }
  ]
}